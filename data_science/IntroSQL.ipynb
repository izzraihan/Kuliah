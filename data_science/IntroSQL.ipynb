import duckdb
import pandas as pd

# Load the CSV into a DataFrame
df = pd.read_csv('application_usage.csv')

# Create an in-memory DuckDB database and register the DataFrame
con = duckdb.connect(database=':memory:')
con.register('applications', df)

# SQL query to get the top 10 applications based on Average_Usage_Hours_Per_Week
query = """
SELECT * FROM applications
ORDER BY Average_Usage_Hours_Per_Week DESC
LIMIT 10
"""

# Execute the query and display the result
result = con.execute(query).df()
print(result)
